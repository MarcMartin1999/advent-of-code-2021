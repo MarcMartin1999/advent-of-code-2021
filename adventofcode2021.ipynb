{
 "cells": [
  {
   "cell_type": "code",
   "execution_count": 59,
   "metadata": {},
   "outputs": [
    {
     "name": "stdout",
     "output_type": "stream",
     "text": [
      "1184\n"
     ]
    }
   ],
   "source": [
    "rd = open(\"data/input1.txt\",\"r\")\n",
    "prev_depth = float(rd.readline())\n",
    "i = 0\n",
    "for depth in rd:\n",
    "    depth = float(depth.strip())\n",
    "    if prev_depth < depth:\n",
    "        i+=1\n",
    "    prev_depth = depth\n",
    "print(i)\n"
   ]
  },
  {
   "cell_type": "code",
   "execution_count": 60,
   "metadata": {},
   "outputs": [
    {
     "name": "stdout",
     "output_type": "stream",
     "text": [
      "1158\n"
     ]
    }
   ],
   "source": [
    "rd = open(\"data/input1.txt\",\"r\")\n",
    "data = []\n",
    "sums =[]\n",
    "count = 0\n",
    "for line in rd:\n",
    "    depth = float(line.strip())\n",
    "    data.append(depth)\n",
    "    \n",
    "for i,depth in enumerate(data):\n",
    "    if i+2< len(data) :\n",
    "        sums.append(depth + data[i+1] + data[i+2])\n",
    "for i,sum in enumerate(sums):\n",
    "    if i+1 < len(sums) and sums[i+1]> sum:\n",
    "        count +=1\n",
    "\n",
    "print(count)"
   ]
  },
  {
   "cell_type": "code",
   "execution_count": 61,
   "metadata": {},
   "outputs": [
    {
     "name": "stdout",
     "output_type": "stream",
     "text": [
      "1692075.0\n"
     ]
    }
   ],
   "source": [
    "rd = open(\"data/input2.txt\",\"r\")\n",
    "position = [0,0]\n",
    "aim = 0\n",
    "for line in rd:\n",
    "    direction,num = line.split(\" \")\n",
    "    if direction == 'forward':\n",
    "        position[0] += float(num)\n",
    "    if direction == 'down':\n",
    "        position[1] += float(num)\n",
    "    if direction == 'up':\n",
    "        position[1] -= float(num)\n",
    "\n",
    "    \n",
    "print(position[1]*position[0])"
   ]
  },
  {
   "cell_type": "code",
   "execution_count": 62,
   "metadata": {},
   "outputs": [
    {
     "name": "stdout",
     "output_type": "stream",
     "text": [
      "1749524700.0\n"
     ]
    }
   ],
   "source": [
    "rd = open(\"data/input2.txt\",\"r\")\n",
    "position = [0,0]\n",
    "aim = 0\n",
    "for line in rd:\n",
    "    direction,num = line.split(\" \")\n",
    "    if direction == 'down':\n",
    "        aim += float(num)\n",
    "    if direction == 'up':\n",
    "        aim -= float(num)\n",
    "    if direction == 'forward':\n",
    "        position[0] += float(num)\n",
    "        position[1] +=  float(num)*aim\n",
    "    \n",
    "print(position[1]*position[0])"
   ]
  },
  {
   "cell_type": "code",
   "execution_count": 17,
   "metadata": {},
   "outputs": [
    {
     "name": "stdout",
     "output_type": "stream",
     "text": [
      "3985686\n"
     ]
    }
   ],
   "source": [
    "rd = open(\"data/input3.txt\",\"r\")\n",
    "list_lines = []\n",
    "\n",
    "for col in rd:\n",
    "    list_lines.append(col.strip())\n",
    "\n",
    "length_bin = len(list_lines[0])\n",
    "bit_picker = []\n",
    "\n",
    "for i in range(length_bin):\n",
    "    bit_picker.append(0)\n",
    "\n",
    "for line in list_lines:\n",
    "    for i in range(length_bin):\n",
    "        bit_picker[i] += int(line[i])\n",
    "        \n",
    "for i,bit in enumerate(bit_picker):\n",
    "    if bit >= len(list_lines)/2:\n",
    "        bit_picker[i] = 1\n",
    "    else: \n",
    "        bit_picker[i]= 0\n",
    "\n",
    "bit=\"\"\n",
    "inverted_bit=\"\"\n",
    "for num in bit_picker:\n",
    "    bit= bit+str(num)\n",
    "    if num == 1:\n",
    "        inverted_bit = inverted_bit +\"0\"\n",
    "    else:\n",
    "        inverted_bit= inverted_bit +\"1\"\n",
    "\n",
    "print(int(bit,2)*int(inverted_bit,2))\n"
   ]
  },
  {
   "cell_type": "code",
   "execution_count": 66,
   "metadata": {},
   "outputs": [],
   "source": [
    "rd = open(\"data/input3.txt\",\"r\")\n",
    "list_lines = []\n",
    "\n",
    "for col in rd:\n",
    "    list_lines.append(col.strip())\n",
    "\n",
    "length_bin = len(list_lines[0])\n"
   ]
  },
  {
   "cell_type": "code",
   "execution_count": 114,
   "metadata": {},
   "outputs": [
    {
     "name": "stdout",
     "output_type": "stream",
     "text": [
      "['001110010111']\n"
     ]
    }
   ],
   "source": [
    "list_oxygen = list_lines.copy()\n",
    "i = 0\n",
    "while i!=length_bin and len(list_oxygen)>1 :\n",
    "    bit_picker = 0\n",
    "    for line in list_oxygen:\n",
    "        bit_picker +=int(line[i])\n",
    "    if bit_picker >= (len(list_oxygen))/2:\n",
    "        bit_picker = '1'\n",
    "    else:\n",
    "        bit_picker= '0'\n",
    "    list_oxygen =[j for j  in list_oxygen if j[i]!=bit_picker]\n",
    "    i+=1\n",
    "print(list_oxygen)\n"
   ]
  },
  {
   "cell_type": "code",
   "execution_count": 113,
   "metadata": {},
   "outputs": [
    {
     "name": "stdout",
     "output_type": "stream",
     "text": [
      "['101011011101']\n"
     ]
    }
   ],
   "source": [
    "list_CO2 = list_lines.copy()\n",
    "\n",
    "i = 0\n",
    "while i!=length_bin :\n",
    "    bit_picker = 0\n",
    "    for line in list_CO2:\n",
    "        bit_picker +=int(line[i])\n",
    "    if bit_picker >= (len(list_CO2))/2:\n",
    "        bit_picker = '1'\n",
    "    else:\n",
    "        bit_picker= '0'\n",
    "    list_CO2 =[j for j  in list_CO2 if j[i] == bit_picker]\n",
    "    i+=1\n",
    "print(list_CO2)"
   ]
  },
  {
   "cell_type": "code",
   "execution_count": 115,
   "metadata": {},
   "outputs": [
    {
     "name": "stdout",
     "output_type": "stream",
     "text": [
      "2555739\n"
     ]
    }
   ],
   "source": [
    "print(int (list_CO2[0],2)*int(list_oxygen[0],2))"
   ]
  }
 ],
 "metadata": {
  "interpreter": {
   "hash": "916dbcbb3f70747c44a77c7bcd40155683ae19c65e1c03b4aa3499c5328201f1"
  },
  "kernelspec": {
   "display_name": "Python 3.8.10 64-bit",
   "language": "python",
   "name": "python3"
  },
  "language_info": {
   "codemirror_mode": {
    "name": "ipython",
    "version": 3
   },
   "file_extension": ".py",
   "mimetype": "text/x-python",
   "name": "python",
   "nbconvert_exporter": "python",
   "pygments_lexer": "ipython3",
   "version": "3.8.10"
  },
  "orig_nbformat": 4
 },
 "nbformat": 4,
 "nbformat_minor": 2
}
