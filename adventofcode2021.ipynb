{
 "cells": [
  {
   "cell_type": "code",
   "execution_count": 211,
   "metadata": {},
   "outputs": [],
   "source": [
    "import numpy as np"
   ]
  },
  {
   "cell_type": "code",
   "execution_count": 59,
   "metadata": {},
   "outputs": [
    {
     "name": "stdout",
     "output_type": "stream",
     "text": [
      "1184\n"
     ]
    }
   ],
   "source": [
    "rd = open(\"data/input1.txt\",\"r\")\n",
    "prev_depth = float(rd.readline())\n",
    "i = 0\n",
    "for depth in rd:\n",
    "    depth = float(depth.strip())\n",
    "    if prev_depth < depth:\n",
    "        i+=1\n",
    "    prev_depth = depth\n",
    "print(i)\n"
   ]
  },
  {
   "cell_type": "code",
   "execution_count": 60,
   "metadata": {},
   "outputs": [
    {
     "name": "stdout",
     "output_type": "stream",
     "text": [
      "1158\n"
     ]
    }
   ],
   "source": [
    "rd = open(\"data/input1.txt\",\"r\")\n",
    "data = []\n",
    "sums =[]\n",
    "count = 0\n",
    "for line in rd:\n",
    "    depth = float(line.strip())\n",
    "    data.append(depth)\n",
    "    \n",
    "for i,depth in enumerate(data):\n",
    "    if i+2< len(data) :\n",
    "        sums.append(depth + data[i+1] + data[i+2])\n",
    "for i,sum in enumerate(sums):\n",
    "    if i+1 < len(sums) and sums[i+1]> sum:\n",
    "        count +=1\n",
    "rd.close()\n",
    "print(count)"
   ]
  },
  {
   "cell_type": "code",
   "execution_count": 61,
   "metadata": {},
   "outputs": [
    {
     "name": "stdout",
     "output_type": "stream",
     "text": [
      "1692075.0\n"
     ]
    }
   ],
   "source": [
    "rd = open(\"data/input2.txt\",\"r\")\n",
    "position = [0,0]\n",
    "aim = 0\n",
    "for line in rd:\n",
    "    direction,num = line.split(\" \")\n",
    "    if direction == 'forward':\n",
    "        position[0] += float(num)\n",
    "    if direction == 'down':\n",
    "        position[1] += float(num)\n",
    "    if direction == 'up':\n",
    "        position[1] -= float(num)\n",
    "rd.close()\n",
    "    \n",
    "print(position[1]*position[0])"
   ]
  },
  {
   "cell_type": "code",
   "execution_count": 116,
   "metadata": {},
   "outputs": [
    {
     "name": "stdout",
     "output_type": "stream",
     "text": [
      "1749524700.0\n"
     ]
    }
   ],
   "source": [
    "rd = open(\"data/input2.txt\",\"r\")\n",
    "position = [0,0]\n",
    "aim = 0\n",
    "for line in rd:\n",
    "    direction,num = line.split(\" \")\n",
    "    if direction == 'down':\n",
    "        aim += float(num)\n",
    "    if direction == 'up':\n",
    "        aim -= float(num)\n",
    "    if direction == 'forward':\n",
    "        position[0] += float(num)\n",
    "        position[1] +=  float(num)*aim\n",
    "    \n",
    "print(position[1]*position[0])\n",
    "rd.close()"
   ]
  },
  {
   "cell_type": "code",
   "execution_count": 17,
   "metadata": {},
   "outputs": [
    {
     "name": "stdout",
     "output_type": "stream",
     "text": [
      "3985686\n"
     ]
    }
   ],
   "source": [
    "rd = open(\"data/input3.txt\",\"r\")\n",
    "list_lines = []\n",
    "\n",
    "for col in rd:\n",
    "    list_lines.append(col.strip())\n",
    "\n",
    "length_bin = len(list_lines[0])\n",
    "bit_picker = []\n",
    "\n",
    "for i in range(length_bin):\n",
    "    bit_picker.append(0)\n",
    "\n",
    "for line in list_lines:\n",
    "    for i in range(length_bin):\n",
    "        bit_picker[i] += int(line[i])\n",
    "        \n",
    "for i,bit in enumerate(bit_picker):\n",
    "    if bit >= len(list_lines)/2:\n",
    "        bit_picker[i] = 1\n",
    "    else: \n",
    "        bit_picker[i]= 0\n",
    "\n",
    "bit=\"\"\n",
    "inverted_bit=\"\"\n",
    "for num in bit_picker:\n",
    "    bit= bit+str(num)\n",
    "    if num == 1:\n",
    "        inverted_bit = inverted_bit +\"0\"\n",
    "    else:\n",
    "        inverted_bit= inverted_bit +\"1\"\n",
    "\n",
    "print(int(bit,2)*int(inverted_bit,2))\n",
    "rd.close()"
   ]
  },
  {
   "cell_type": "code",
   "execution_count": 66,
   "metadata": {},
   "outputs": [],
   "source": [
    "rd = open(\"data/input3.txt\",\"r\")\n",
    "list_lines = []\n",
    "\n",
    "for col in rd:\n",
    "    list_lines.append(col.strip())\n",
    "\n",
    "length_bin = len(list_lines[0])\n"
   ]
  },
  {
   "cell_type": "code",
   "execution_count": 114,
   "metadata": {},
   "outputs": [
    {
     "name": "stdout",
     "output_type": "stream",
     "text": [
      "['001110010111']\n"
     ]
    }
   ],
   "source": [
    "list_oxygen = list_lines.copy()\n",
    "i = 0\n",
    "while i!=length_bin and len(list_oxygen)>1 :\n",
    "    bit_picker = 0\n",
    "    for line in list_oxygen:\n",
    "        bit_picker +=int(line[i])\n",
    "    if bit_picker >= (len(list_oxygen))/2:\n",
    "        bit_picker = '1'\n",
    "    else:\n",
    "        bit_picker= '0'\n",
    "    list_oxygen =[j for j  in list_oxygen if j[i]!=bit_picker]\n",
    "    i+=1\n",
    "print(list_oxygen)\n"
   ]
  },
  {
   "cell_type": "code",
   "execution_count": 113,
   "metadata": {},
   "outputs": [
    {
     "name": "stdout",
     "output_type": "stream",
     "text": [
      "['101011011101']\n"
     ]
    }
   ],
   "source": [
    "list_CO2 = list_lines.copy()\n",
    "\n",
    "i = 0\n",
    "while i!=length_bin :\n",
    "    bit_picker = 0\n",
    "    for line in list_CO2:\n",
    "        bit_picker +=int(line[i])\n",
    "    if bit_picker >= (len(list_CO2))/2:\n",
    "        bit_picker = '1'\n",
    "    else:\n",
    "        bit_picker= '0'\n",
    "    list_CO2 =[j for j  in list_CO2 if j[i] == bit_picker]\n",
    "    i+=1\n",
    "print(list_CO2)"
   ]
  },
  {
   "cell_type": "code",
   "execution_count": 115,
   "metadata": {},
   "outputs": [
    {
     "name": "stdout",
     "output_type": "stream",
     "text": [
      "2555739\n"
     ]
    }
   ],
   "source": [
    "print(int (list_CO2[0],2)*int(list_oxygen[0],2))\n",
    "rd.close()"
   ]
  },
  {
   "cell_type": "code",
   "execution_count": 187,
   "metadata": {},
   "outputs": [],
   "source": [
    "\n",
    "class board:\n",
    "    def __init__(self):\n",
    "        self.rows = []\n",
    "        self.last_num = -1\n",
    "    \n",
    "    def add_row(self,row):\n",
    "        self.rows.append(row)\n",
    "    def __str__(self) -> str:\n",
    "        ret = ''\n",
    "        for row in self.rows:\n",
    "            for num in row:\n",
    "                ret += num+' | ' \n",
    "            ret+='\\n'\n",
    "        return ret\n",
    "    def try_number(self,num):\n",
    "        for j,row in enumerate(self.rows):\n",
    "            for i,n in enumerate(row):\n",
    "                if n == num:\n",
    "                    self.rows[j][i]= 'x'\n",
    "                    self.last_num = int(num)\n",
    "                    return True\n",
    "        return False\n",
    "    def is_bingo(self):\n",
    "        return self.__search_row() or self.__search_column()\n",
    "    def __search_row(self):\n",
    "        bool_list = []\n",
    "        for row in self.rows:\n",
    "            bool_aux = True\n",
    "            for num in row:\n",
    "                if num != 'x':\n",
    "                    bool_aux =False\n",
    "                    break\n",
    "            bool_list.append(bool_aux)\n",
    "        \n",
    "        return (True in bool_list)\n",
    "    \n",
    "    def __search_column(self):\n",
    "        bool_list = []\n",
    "        for i in range(len(self.rows[0])):\n",
    "            bool_aux = True\n",
    "            for row in self.rows:\n",
    "                if row[i] != 'x':\n",
    "                    bool_aux =False\n",
    "                    break\n",
    "            bool_list.append(bool_aux)\n",
    "        \n",
    "\n",
    "        \n",
    "        return (True in bool_list)\n",
    "    def score(self):\n",
    "        score = 0\n",
    "        for row in self.rows:\n",
    "            for num in row:\n",
    "                if num != 'x':\n",
    "                    score+=int(num)\n",
    "        return score*self.last_num"
   ]
  },
  {
   "cell_type": "code",
   "execution_count": 121,
   "metadata": {},
   "outputs": [
    {
     "name": "stdout",
     "output_type": "stream",
     "text": [
      "x | 91 | 37 | x | 98 | \n",
      "68 | x | 34 | x | 43 | \n",
      "75 | x | 67 | x | 69 | \n",
      "81 | 47 | 58 | x | 93 | \n",
      "88 | 92 | 42 | x | 54 | \n",
      "\n",
      "5685\n"
     ]
    }
   ],
   "source": [
    "rd = open(\"data/input4.txt\",\"r\")\n",
    "bingo_calls = rd.readlines(1)[0].strip().split(',')\n",
    "list_input = []\n",
    "for line in rd:\n",
    "    if line.strip() != '':\n",
    "        list_input.append(line.strip().split(' '))\n",
    "\n",
    "for inp in list_input:\n",
    "    for num in inp:\n",
    "        if num=='':\n",
    "            inp.remove('')\n",
    "        num =num.strip()\n",
    "        \n",
    "list_board = []\n",
    "aux_board = board()\n",
    "for i,line in enumerate(list_input):\n",
    "    if i % 5 == 0 and i !=0:\n",
    "        list_board.append(aux_board)\n",
    "        aux_board = board()\n",
    "    aux_board.add_row(line)\n",
    "\n",
    "bool_bingo = False\n",
    "for num in bingo_calls:\n",
    "    if bool_bingo:\n",
    "        break\n",
    "    for bo in list_board:\n",
    "        bo.try_number(num)\n",
    "        if bo.is_bingo():\n",
    "            bool_bingo = True\n",
    "            print(bo)\n",
    "            print(bo.score())\n",
    "            break\n",
    "  \n",
    "rd.close()\n"
   ]
  },
  {
   "cell_type": "code",
   "execution_count": 195,
   "metadata": {},
   "outputs": [
    {
     "name": "stdout",
     "output_type": "stream",
     "text": [
      "x | x | 83 | x | x | \n",
      "88 | x | x | x | x | \n",
      "x | x | 59 | x | x | \n",
      "x | x | x | 34 | x | \n",
      "97 | x | x | x | 69 | \n",
      " 21070\n"
     ]
    }
   ],
   "source": [
    "rd = open(\"data/input4.txt\",\"r\")\n",
    "bingo_calls = rd.readlines(1)[0].strip().split(',')\n",
    "list_input = []\n",
    "for line in rd:\n",
    "    if line.strip() != '':\n",
    "        list_input.append(line.strip().split(' '))\n",
    "\n",
    "for inp in list_input:\n",
    "    for num in inp:\n",
    "        if num=='':\n",
    "            inp.remove('')\n",
    "        num =num.strip()\n",
    "        \n",
    "list_board = []\n",
    "aux_board = board()\n",
    "for i,line in enumerate(list_input):\n",
    "    if i % 5 == 0 and i !=0:\n",
    "        list_board.append(aux_board)\n",
    "        aux_board = board()\n",
    "    aux_board.add_row(line)\n",
    "\n",
    "last_score= 0\n",
    "last_winner = ''\n",
    "i = 0\n",
    "while i <= len(list_board)-1:\n",
    "    score = 0\n",
    "    bo = list_board[i]\n",
    "    for n in bingo_calls:\n",
    "        score+=1\n",
    "        bo.try_number(n)\n",
    "        if last_score <= score:  \n",
    "                last_score = score\n",
    "                last_winner = bo\n",
    "\n",
    "        if bo.is_bingo():         \n",
    "            list_board.remove(bo)\n",
    "            break\n",
    "        \n",
    "    i +=1\n",
    "print(last_winner,last_winner.score())\n",
    "rd.close()"
   ]
  },
  {
   "cell_type": "code",
   "execution_count": 308,
   "metadata": {},
   "outputs": [],
   "source": [
    "class Vents:\n",
    "    def __init__(self,from_x,from_y,to_x,to_y):\n",
    "        self.from_x = int(from_x)\n",
    "        self.from_y = int(from_y)\n",
    "        self.to_x = int(to_x)\n",
    "        self.to_y = int(to_y)\n",
    "\n",
    "    def __str__(self) -> str:\n",
    "        return str(self.from_x) + ' , '+str(self.from_y) +' - '+ str(self.to_x)+ ' , '+str(self.to_y)\n",
    "    \n",
    "    def fill_grid(self,nparray):\n",
    "\n",
    "        if self.from_x == self.to_x  and self.from_y != self.to_y:\n",
    "            if self.from_y < self.to_y:\n",
    "                pos_y = self.from_y\n",
    "                to_y =self.to_y\n",
    "            else:\n",
    "                pos_y = self.to_y\n",
    "                to_y =self.from_y\n",
    "            while pos_y <= to_y:\n",
    "                nparray[self.from_x][pos_y] += 1 \n",
    "                pos_y+=1      \n",
    "        elif self.from_y == self.to_y:\n",
    "\n",
    "            if self.from_x < self.to_x:\n",
    "                pos_x = self.from_x\n",
    "                to_x =self.to_x\n",
    "            else:\n",
    "                pos_x = self.to_x\n",
    "                to_x =self.from_x\n",
    "            while pos_x <= to_x:\n",
    "                nparray[pos_x][self.from_y] += 1 \n",
    "                pos_x+=1\n",
    "        else:\n",
    "            if self.from_y > self.to_y:\n",
    "                sum_y = -1\n",
    "            else: \n",
    "                sum_y = 1\n",
    "            if self.from_x > self.to_x:\n",
    "                sum_x = -1\n",
    "            else:\n",
    "                sum_x = 1\n",
    "            pos_x = self.from_x\n",
    "            pos_y = self.from_y\n",
    "            while pos_x != self.to_x+sum_x or pos_y != self.to_y+sum_y:\n",
    "                nparray[pos_x][pos_y] += 1 \n",
    "                pos_x += sum_x\n",
    "                pos_y += sum_y\n",
    "\n",
    "                "
   ]
  },
  {
   "cell_type": "code",
   "execution_count": 309,
   "metadata": {},
   "outputs": [
    {
     "name": "stdout",
     "output_type": "stream",
     "text": [
      "329\n",
      "8622\n"
     ]
    }
   ],
   "source": [
    "rd = open(\"data/input5.txt\",\"r\")\n",
    "vents_lines = []\n",
    "for line in rd:\n",
    "    to = line.strip().split(' -> ')[0].split(',')\n",
    "    _from =  line.strip().split(' -> ')[1].split(',')\n",
    "    if _from[1] == to[1] or _from[0] == to[0]:\n",
    "        vent_line = Vents(to[0],to[1],_from[0],_from[1])\n",
    "        vents_lines.append(vent_line)\n",
    "print(len(vents_lines))\n",
    "grid = np.zeros((1000,1000)).tolist()\n",
    "for vent in vents_lines:\n",
    "    vent.fill_grid(grid)\n",
    "\n",
    "sum = 0\n",
    "for row in grid:\n",
    "    for el in row:\n",
    "        if el > 1:\n",
    "            sum+=1\n",
    "print(sum)"
   ]
  },
  {
   "cell_type": "code",
   "execution_count": 310,
   "metadata": {},
   "outputs": [
    {
     "name": "stdout",
     "output_type": "stream",
     "text": [
      "22037\n"
     ]
    }
   ],
   "source": [
    "rd = open(\"data/input5.txt\",\"r\")\n",
    "vents_lines = []\n",
    "for line in rd:\n",
    "    to = line.strip().split(' -> ')[0].split(',')\n",
    "    _from =  line.strip().split(' -> ')[1].split(',')\n",
    "    _from = [int(i) for i in _from]\n",
    "    to =[int(i) for i in to]\n",
    "    if((_from[1] == to[1] or _from[0] == to[0]) or abs(to[0]- _from[0]) == abs(to[1]-_from[1])):\n",
    "        vent_line = Vents(to[0],to[1],_from[0],_from[1])\n",
    "        vents_lines.append(vent_line)\n",
    "        \n",
    "grid = np.zeros((1000,1000)).tolist()\n",
    "for vent in vents_lines:\n",
    "    vent.fill_grid(grid)\n",
    "\n",
    "sum = 0\n",
    "for row in grid:\n",
    "    for el in row:\n",
    "        if el > 1:\n",
    "            sum+=1\n",
    "print(sum)"
   ]
  },
  {
   "cell_type": "code",
   "execution_count": null,
   "metadata": {},
   "outputs": [],
   "source": []
  }
 ],
 "metadata": {
  "interpreter": {
   "hash": "916dbcbb3f70747c44a77c7bcd40155683ae19c65e1c03b4aa3499c5328201f1"
  },
  "kernelspec": {
   "display_name": "Python 3.8.10 64-bit",
   "language": "python",
   "name": "python3"
  },
  "language_info": {
   "codemirror_mode": {
    "name": "ipython",
    "version": 3
   },
   "file_extension": ".py",
   "mimetype": "text/x-python",
   "name": "python",
   "nbconvert_exporter": "python",
   "pygments_lexer": "ipython3",
   "version": "3.8.10"
  },
  "orig_nbformat": 4
 },
 "nbformat": 4,
 "nbformat_minor": 2
}
