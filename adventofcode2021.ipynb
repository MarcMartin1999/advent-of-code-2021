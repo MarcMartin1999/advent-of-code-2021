{
 "cells": [
  {
   "cell_type": "code",
   "execution_count": 59,
   "metadata": {},
   "outputs": [
    {
     "name": "stdout",
     "output_type": "stream",
     "text": [
      "1184\n"
     ]
    }
   ],
   "source": [
    "rd = open(\"data/input1.txt\",\"r\")\n",
    "prev_depth = float(rd.readline())\n",
    "i = 0\n",
    "for depth in rd:\n",
    "    depth = float(depth.strip())\n",
    "    if prev_depth < depth:\n",
    "        i+=1\n",
    "    prev_depth = depth\n",
    "print(i)\n"
   ]
  },
  {
   "cell_type": "code",
   "execution_count": 60,
   "metadata": {},
   "outputs": [
    {
     "name": "stdout",
     "output_type": "stream",
     "text": [
      "1158\n"
     ]
    }
   ],
   "source": [
    "rd = open(\"data/input1.txt\",\"r\")\n",
    "data = []\n",
    "sums =[]\n",
    "count = 0\n",
    "for line in rd:\n",
    "    depth = float(line.strip())\n",
    "    data.append(depth)\n",
    "    \n",
    "for i,depth in enumerate(data):\n",
    "    if i+2< len(data) :\n",
    "        sums.append(depth + data[i+1] + data[i+2])\n",
    "for i,sum in enumerate(sums):\n",
    "    if i+1 < len(sums) and sums[i+1]> sum:\n",
    "        count +=1\n",
    "rd.close()\n",
    "print(count)"
   ]
  },
  {
   "cell_type": "code",
   "execution_count": 61,
   "metadata": {},
   "outputs": [
    {
     "name": "stdout",
     "output_type": "stream",
     "text": [
      "1692075.0\n"
     ]
    }
   ],
   "source": [
    "rd = open(\"data/input2.txt\",\"r\")\n",
    "position = [0,0]\n",
    "aim = 0\n",
    "for line in rd:\n",
    "    direction,num = line.split(\" \")\n",
    "    if direction == 'forward':\n",
    "        position[0] += float(num)\n",
    "    if direction == 'down':\n",
    "        position[1] += float(num)\n",
    "    if direction == 'up':\n",
    "        position[1] -= float(num)\n",
    "rd.close()\n",
    "    \n",
    "print(position[1]*position[0])"
   ]
  },
  {
   "cell_type": "code",
   "execution_count": 116,
   "metadata": {},
   "outputs": [
    {
     "name": "stdout",
     "output_type": "stream",
     "text": [
      "1749524700.0\n"
     ]
    }
   ],
   "source": [
    "rd = open(\"data/input2.txt\",\"r\")\n",
    "position = [0,0]\n",
    "aim = 0\n",
    "for line in rd:\n",
    "    direction,num = line.split(\" \")\n",
    "    if direction == 'down':\n",
    "        aim += float(num)\n",
    "    if direction == 'up':\n",
    "        aim -= float(num)\n",
    "    if direction == 'forward':\n",
    "        position[0] += float(num)\n",
    "        position[1] +=  float(num)*aim\n",
    "    \n",
    "print(position[1]*position[0])\n",
    "rd.close()"
   ]
  },
  {
   "cell_type": "code",
   "execution_count": 17,
   "metadata": {},
   "outputs": [
    {
     "name": "stdout",
     "output_type": "stream",
     "text": [
      "3985686\n"
     ]
    }
   ],
   "source": [
    "rd = open(\"data/input3.txt\",\"r\")\n",
    "list_lines = []\n",
    "\n",
    "for col in rd:\n",
    "    list_lines.append(col.strip())\n",
    "\n",
    "length_bin = len(list_lines[0])\n",
    "bit_picker = []\n",
    "\n",
    "for i in range(length_bin):\n",
    "    bit_picker.append(0)\n",
    "\n",
    "for line in list_lines:\n",
    "    for i in range(length_bin):\n",
    "        bit_picker[i] += int(line[i])\n",
    "        \n",
    "for i,bit in enumerate(bit_picker):\n",
    "    if bit >= len(list_lines)/2:\n",
    "        bit_picker[i] = 1\n",
    "    else: \n",
    "        bit_picker[i]= 0\n",
    "\n",
    "bit=\"\"\n",
    "inverted_bit=\"\"\n",
    "for num in bit_picker:\n",
    "    bit= bit+str(num)\n",
    "    if num == 1:\n",
    "        inverted_bit = inverted_bit +\"0\"\n",
    "    else:\n",
    "        inverted_bit= inverted_bit +\"1\"\n",
    "\n",
    "print(int(bit,2)*int(inverted_bit,2))\n",
    "rd.close()"
   ]
  },
  {
   "cell_type": "code",
   "execution_count": 66,
   "metadata": {},
   "outputs": [],
   "source": [
    "rd = open(\"data/input3.txt\",\"r\")\n",
    "list_lines = []\n",
    "\n",
    "for col in rd:\n",
    "    list_lines.append(col.strip())\n",
    "\n",
    "length_bin = len(list_lines[0])\n"
   ]
  },
  {
   "cell_type": "code",
   "execution_count": 114,
   "metadata": {},
   "outputs": [
    {
     "name": "stdout",
     "output_type": "stream",
     "text": [
      "['001110010111']\n"
     ]
    }
   ],
   "source": [
    "list_oxygen = list_lines.copy()\n",
    "i = 0\n",
    "while i!=length_bin and len(list_oxygen)>1 :\n",
    "    bit_picker = 0\n",
    "    for line in list_oxygen:\n",
    "        bit_picker +=int(line[i])\n",
    "    if bit_picker >= (len(list_oxygen))/2:\n",
    "        bit_picker = '1'\n",
    "    else:\n",
    "        bit_picker= '0'\n",
    "    list_oxygen =[j for j  in list_oxygen if j[i]!=bit_picker]\n",
    "    i+=1\n",
    "print(list_oxygen)\n"
   ]
  },
  {
   "cell_type": "code",
   "execution_count": 113,
   "metadata": {},
   "outputs": [
    {
     "name": "stdout",
     "output_type": "stream",
     "text": [
      "['101011011101']\n"
     ]
    }
   ],
   "source": [
    "list_CO2 = list_lines.copy()\n",
    "\n",
    "i = 0\n",
    "while i!=length_bin :\n",
    "    bit_picker = 0\n",
    "    for line in list_CO2:\n",
    "        bit_picker +=int(line[i])\n",
    "    if bit_picker >= (len(list_CO2))/2:\n",
    "        bit_picker = '1'\n",
    "    else:\n",
    "        bit_picker= '0'\n",
    "    list_CO2 =[j for j  in list_CO2 if j[i] == bit_picker]\n",
    "    i+=1\n",
    "print(list_CO2)"
   ]
  },
  {
   "cell_type": "code",
   "execution_count": 115,
   "metadata": {},
   "outputs": [
    {
     "name": "stdout",
     "output_type": "stream",
     "text": [
      "2555739\n"
     ]
    }
   ],
   "source": [
    "print(int (list_CO2[0],2)*int(list_oxygen[0],2))\n",
    "rd.close()"
   ]
  },
  {
   "cell_type": "code",
   "execution_count": 116,
   "metadata": {},
   "outputs": [],
   "source": [
    "\n",
    "class board:\n",
    "    def __init__(self):\n",
    "        self.rows = []\n",
    "        self.last_num = -1\n",
    "    \n",
    "    def add_row(self,row):\n",
    "        self.rows.append(row)\n",
    "    def __str__(self) -> str:\n",
    "        ret = ''\n",
    "        for row in self.rows:\n",
    "            for num in row:\n",
    "                ret += num+' | ' \n",
    "            ret+='\\n'\n",
    "        return ret\n",
    "    def try_number(self,num):\n",
    "        for j,row in enumerate(self.rows):\n",
    "            for i,n in enumerate(row):\n",
    "                if n == num:\n",
    "                    self.rows[j][i]= 'x'\n",
    "                    self.last_num = int(num)\n",
    "\n",
    "    def is_bingo(self):\n",
    "        return self.__search_row() or self.__search_column()\n",
    "    def __search_row(self):\n",
    "        bool_list = []\n",
    "        for row in self.rows:\n",
    "            bool_aux = True\n",
    "            for num in row:\n",
    "                if num != 'x':\n",
    "                    bool_aux =False\n",
    "                    break\n",
    "            bool_list.append(bool_aux)\n",
    "        \n",
    "        return (True in bool_list)\n",
    "    \n",
    "    def __search_column(self):\n",
    "        bool_list = []\n",
    "        for i in range(len(self.rows[0])):\n",
    "            bool_aux = True\n",
    "            for row in self.rows:\n",
    "                if row[i] != 'x':\n",
    "                    bool_aux =False\n",
    "                    break\n",
    "            bool_list.append(bool_aux)\n",
    "        \n",
    "\n",
    "        \n",
    "        return (True in bool_list)\n",
    "    def score(self):\n",
    "        score = 0\n",
    "        for row in self.rows:\n",
    "            for num in row:\n",
    "                if num != 'x':\n",
    "                    score+=int(num)\n",
    "        return score*self.last_num"
   ]
  },
  {
   "cell_type": "code",
   "execution_count": 121,
   "metadata": {},
   "outputs": [
    {
     "name": "stdout",
     "output_type": "stream",
     "text": [
      "x | 91 | 37 | x | 98 | \n",
      "68 | x | 34 | x | 43 | \n",
      "75 | x | 67 | x | 69 | \n",
      "81 | 47 | 58 | x | 93 | \n",
      "88 | 92 | 42 | x | 54 | \n",
      "\n",
      "5685\n"
     ]
    }
   ],
   "source": [
    "rd = open(\"data/input4.txt\",\"r\")\n",
    "bingo_calls = rd.readlines(1)[0].strip().split(',')\n",
    "list_input = []\n",
    "for line in rd:\n",
    "    if line.strip() != '':\n",
    "        list_input.append(line.strip().split(' '))\n",
    "\n",
    "for inp in list_input:\n",
    "    for num in inp:\n",
    "        if num=='':\n",
    "            inp.remove('')\n",
    "        num =num.strip()\n",
    "        \n",
    "list_board = []\n",
    "aux_board = board()\n",
    "for i,line in enumerate(list_input):\n",
    "    if i % 5 == 0 and i !=0:\n",
    "        list_board.append(aux_board)\n",
    "        aux_board = board()\n",
    "    aux_board.add_row(line)\n",
    "\n",
    "bool_bingo = False\n",
    "for num in bingo_calls:\n",
    "    if bool_bingo:\n",
    "        break\n",
    "    for bo in list_board:\n",
    "        bo.try_number(num)\n",
    "        if bo.is_bingo():\n",
    "            bool_bingo = True\n",
    "            print(bo)\n",
    "            print(bo.score())\n",
    "            break\n",
    "  \n",
    "\n"
   ]
  },
  {
   "cell_type": "code",
   "execution_count": 147,
   "metadata": {},
   "outputs": [
    {
     "name": "stdout",
     "output_type": "stream",
     "text": [
      "0\n"
     ]
    }
   ],
   "source": [
    "rd = open(\"data/input4.txt\",\"r\")\n",
    "bingo_calls = rd.readlines(1)[0].strip().split(',')\n",
    "list_input = []\n",
    "for line in rd:\n",
    "    if line.strip() != '':\n",
    "        list_input.append(line.strip().split(' '))\n",
    "\n",
    "for inp in list_input:\n",
    "    for num in inp:\n",
    "        if num=='':\n",
    "            inp.remove('')\n",
    "        num =num.strip()\n",
    "        \n",
    "list_board = []\n",
    "aux_board = board()\n",
    "for i,line in enumerate(list_input):\n",
    "    if i % 5 == 0 and i !=0:\n",
    "        list_board.append(aux_board)\n",
    "        aux_board = board()\n",
    "    aux_board.add_row(line)\n",
    "\n",
    "last_score= 0\n",
    "last_winner = ''\n",
    "\n",
    "while i<len(list_board)-1:\n",
    "    score = 0\n",
    "    first = True\n",
    "    bo = list_board[i]\n",
    "    for num in list_input:\n",
    "        bo.try_number(num)\n",
    "        if bo.is_bingo() and first and score > last_score:  \n",
    "\n",
    "                last_score = score\n",
    "                last_bingo = bo\n",
    "                first = False\n",
    "\n",
    "        score +=1        \n",
    "    i +=1\n",
    "\n",
    "\n"
   ]
  },
  {
   "cell_type": "code",
   "execution_count": null,
   "metadata": {},
   "outputs": [],
   "source": []
  }
 ],
 "metadata": {
  "interpreter": {
   "hash": "916dbcbb3f70747c44a77c7bcd40155683ae19c65e1c03b4aa3499c5328201f1"
  },
  "kernelspec": {
   "display_name": "Python 3.8.10 64-bit",
   "language": "python",
   "name": "python3"
  },
  "language_info": {
   "codemirror_mode": {
    "name": "ipython",
    "version": 3
   },
   "file_extension": ".py",
   "mimetype": "text/x-python",
   "name": "python",
   "nbconvert_exporter": "python",
   "pygments_lexer": "ipython3",
   "version": "3.8.10"
  },
  "orig_nbformat": 4
 },
 "nbformat": 4,
 "nbformat_minor": 2
}
