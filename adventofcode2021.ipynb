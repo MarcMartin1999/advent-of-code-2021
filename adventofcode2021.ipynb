{
 "cells": [
  {
   "cell_type": "code",
   "execution_count": 19,
   "metadata": {},
   "outputs": [
    {
     "name": "stdout",
     "output_type": "stream",
     "text": [
      "1184\n"
     ]
    }
   ],
   "source": [
    "rd = open(\"data/input1.txt\",\"r\")\n",
    "prev_depth = float(rd.readline())\n",
    "i = 0\n",
    "for depth in rd:\n",
    "    depth = float(depth.strip())\n",
    "    if prev_depth < depth:\n",
    "        i+=1\n",
    "    prev_depth = depth\n",
    "print(i)\n"
   ]
  },
  {
   "cell_type": "code",
   "execution_count": 44,
   "metadata": {},
   "outputs": [
    {
     "name": "stdout",
     "output_type": "stream",
     "text": [
      "1158\n"
     ]
    }
   ],
   "source": [
    "rd = open(\"data/input1.txt\",\"r\")\n",
    "data = []\n",
    "sums =[]\n",
    "count = 0\n",
    "for line in rd:\n",
    "    depth = float(line.strip())\n",
    "    data.append(depth)\n",
    "    \n",
    "for i,depth in enumerate(data):\n",
    "    if i+2< len(data) :\n",
    "        sums.append(depth + data[i+1] + data[i+2])\n",
    "for i,sum in enumerate(sums):\n",
    "    if i+1 < len(sums) and sums[i+1]> sum:\n",
    "        count +=1\n",
    "\n",
    "print(count)"
   ]
  },
  {
   "cell_type": "code",
   "execution_count": 58,
   "metadata": {},
   "outputs": [
    {
     "name": "stdout",
     "output_type": "stream",
     "text": [
      "1749524700.0\n"
     ]
    }
   ],
   "source": [
    "rd = open(\"data/input2.txt\",\"r\")\n",
    "position = [0,0]\n",
    "aim = 0\n",
    "for line in rd:\n",
    "    direction,num = line.split(\" \")\n",
    "    if direction == 'forward':\n",
    "        position[0] += float(num)\n",
    "    if direction == 'down':\n",
    "        position[1] += float(num)\n",
    "    if direction == 'up':\n",
    "        position[1] -= float(num)\n",
    "\n",
    "    \n",
    "print(position[1]*position[0])"
   ]
  },
  {
   "cell_type": "code",
   "execution_count": null,
   "metadata": {},
   "outputs": [],
   "source": [
    "rd = open(\"data/input2.txt\",\"r\")\n",
    "position = [0,0]\n",
    "aim = 0\n",
    "for line in rd:\n",
    "    direction,num = line.split(\" \")\n",
    "    if direction == 'down':\n",
    "        aim += float(num)\n",
    "    if direction == 'up':\n",
    "        aim -= float(num)\n",
    "    if direction == 'forward':\n",
    "        position[0] += float(num)\n",
    "        position[1] +=  float(num)*aim\n",
    "    \n",
    "print(position[1]*position[0])"
   ]
  }
 ],
 "metadata": {
  "interpreter": {
   "hash": "916dbcbb3f70747c44a77c7bcd40155683ae19c65e1c03b4aa3499c5328201f1"
  },
  "kernelspec": {
   "display_name": "Python 3.8.10 64-bit",
   "language": "python",
   "name": "python3"
  },
  "language_info": {
   "codemirror_mode": {
    "name": "ipython",
    "version": 3
   },
   "file_extension": ".py",
   "mimetype": "text/x-python",
   "name": "python",
   "nbconvert_exporter": "python",
   "pygments_lexer": "ipython3",
   "version": "3.8.10"
  },
  "orig_nbformat": 4
 },
 "nbformat": 4,
 "nbformat_minor": 2
}
