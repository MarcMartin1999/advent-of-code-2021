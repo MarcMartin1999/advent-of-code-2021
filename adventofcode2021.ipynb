{
 "cells": [
  {
   "cell_type": "code",
   "execution_count": 19,
   "metadata": {},
   "outputs": [
    {
     "name": "stdout",
     "output_type": "stream",
     "text": [
      "1184\n"
     ]
    }
   ],
   "source": [
    "rd = open(\"data/input1.txt\",\"r\")\n",
    "prev_depth = float(rd.readline())\n",
    "i = 0\n",
    "for depth in rd:\n",
    "    depth = float(depth.strip())\n",
    "    if prev_depth < depth:\n",
    "        i+=1\n",
    "    prev_depth = depth\n",
    "print(i)\n"
   ]
  },
  {
   "cell_type": "code",
   "execution_count": 41,
   "metadata": {},
   "outputs": [
    {
     "ename": "SyntaxError",
     "evalue": "invalid syntax (4155329045.py, line 13)",
     "output_type": "error",
     "traceback": [
      "\u001b[0;36m  File \u001b[0;32m\"/tmp/ipykernel_15074/4155329045.py\"\u001b[0;36m, line \u001b[0;32m13\u001b[0m\n\u001b[0;31m    for sum in sums\u001b[0m\n\u001b[0m                   ^\u001b[0m\n\u001b[0;31mSyntaxError\u001b[0m\u001b[0;31m:\u001b[0m invalid syntax\n"
     ]
    }
   ],
   "source": [
    "rd = open(\"data/input1.txt\",\"r\")\n",
    "data = []\n",
    "sums =[]\n",
    "count = 0\n",
    "for line in rd:\n",
    "    depth = float(line.strip())\n",
    "    data.append(depth)\n",
    "    \n",
    "for i,depth in enumerate(data):\n",
    "    if i+2< len(data) :\n",
    "        sums.append(depth + data[i+1] + data[i+2])\n",
    "for i,sum in enumerate(sums):\n",
    "    if i+1 < len(sums):\n",
    "        count +=1"
   ]
  },
  {
   "cell_type": "code",
   "execution_count": null,
   "metadata": {},
   "outputs": [],
   "source": []
  }
 ],
 "metadata": {
  "interpreter": {
   "hash": "916dbcbb3f70747c44a77c7bcd40155683ae19c65e1c03b4aa3499c5328201f1"
  },
  "kernelspec": {
   "display_name": "Python 3.8.10 64-bit",
   "language": "python",
   "name": "python3"
  },
  "language_info": {
   "codemirror_mode": {
    "name": "ipython",
    "version": 3
   },
   "file_extension": ".py",
   "mimetype": "text/x-python",
   "name": "python",
   "nbconvert_exporter": "python",
   "pygments_lexer": "ipython3",
   "version": "3.8.10"
  },
  "orig_nbformat": 4
 },
 "nbformat": 4,
 "nbformat_minor": 2
}
